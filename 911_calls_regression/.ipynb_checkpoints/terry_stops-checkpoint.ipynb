{
 "cells": [
  {
   "cell_type": "code",
   "execution_count": 4,
   "metadata": {},
   "outputs": [],
   "source": [
    "import json\n",
    "import numpy as np\n",
    "import pandas as pd\n",
    "import matplotlib.pyplot as plt\n",
    "import seaborn as sns\n",
    "from sklearn.linear_model import LinearRegression\n",
    "from sklearn.model_selection import train_test_split\n",
    "\n"
   ]
  },
  {
   "cell_type": "code",
   "execution_count": 55,
   "metadata": {},
   "outputs": [
    {
     "name": "stdout",
     "output_type": "stream",
     "text": [
      ":sid\n",
      ":id\n",
      ":position\n",
      ":created_at\n",
      ":created_meta\n",
      ":updated_at\n",
      ":updated_meta\n",
      ":meta\n",
      "subjectagegroup\n",
      "subjectid\n",
      "go_num\n",
      "terry_stop_id\n",
      "resolution\n",
      "weapon_type\n",
      "officerid\n",
      "officer_yob\n",
      "officer_gender\n",
      "officer_race\n",
      "subjectrace\n",
      "subjectgender\n",
      "reported_date\n",
      "reported_time\n",
      "initialcalltype\n",
      "finalcalltype\n",
      "calltype\n",
      "officersquad\n",
      "arrestflag\n",
      "friskflag\n",
      "precinct\n",
      "sector\n",
      "beat\n",
      "['row-umfd-e5vn_686x', '00000000-0000-0000-266D-B1759B706594', 0, 1591005696, None, 1591005696, None, '{ }', '-', '-1', '20150000001463', '28806', 'Field Contact', 'None', '5670  ', '1965', 'M', 'White', '-', '-', '2015-03-19T00:00:00', '07:59:00', '-', '-', '-', None, 'N', 'N', '-', '-', '-']\n"
     ]
    }
   ],
   "source": [
    "with open(\"../resources/terry_stops.json\", \"r\") as read_file:\n",
    "    all_data = json.load(read_file)\n",
    "# print(all_data[\"meta\"][\"view\"][\"columns\"][15][\"fieldName\"])\n",
    "# print(all_data[\"data\"][0][15])\n",
    "\n",
    "\n",
    "headers = []\n",
    "for header in all_data[\"meta\"][\"view\"][\"columns\"]:\n",
    "    print(header[\"fieldName\"])\n",
    "    headers.append(header[\"fieldName\"])\n",
    "\n",
    "# print(headers)\n",
    "\n",
    "print(all_data[\"data\"][0])"
   ]
  },
  {
   "cell_type": "code",
   "execution_count": 110,
   "metadata": {},
   "outputs": [
    {
     "name": "stdout",
     "output_type": "stream",
     "text": [
      "42719\n",
      "['row-umfd-e5vn_686x', '00000000-0000-0000-266D-B1759B706594', 0, 1591005696, None, 1591005696, None, '{ }', '-', '-1', '20150000001463', '28806', 'Field Contact', 'None', '5670  ', '1965', 'M', 'White', '-', '-', '2015-03-19T00:00:00', '07:59:00', '-', '-', '-', None, 'N', 'N', '-', '-', '-']\n",
      "<class 'pandas.core.frame.DataFrame'>\n",
      "RangeIndex: 42719 entries, 0 to 42718\n",
      "Data columns (total 32 columns):\n",
      " #   Column           Non-Null Count  Dtype         \n",
      "---  ------           --------------  -----         \n",
      " 0   :sid             42719 non-null  object        \n",
      " 1   :id              42719 non-null  object        \n",
      " 2   :position        42719 non-null  int64         \n",
      " 3   :created_at      42719 non-null  datetime64[ns]\n",
      " 4   :created_meta    0 non-null      object        \n",
      " 5   :updated_at      42719 non-null  datetime64[ns]\n",
      " 6   :updated_meta    0 non-null      object        \n",
      " 7   :meta            42719 non-null  object        \n",
      " 8   subjectagegroup  41383 non-null  object        \n",
      " 9   subjectid        42719 non-null  object        \n",
      " 10  go_num           42719 non-null  object        \n",
      " 11  terry_stop_id    42719 non-null  object        \n",
      " 12  resolution       42719 non-null  object        \n",
      " 13  weapon_type      34985 non-null  object        \n",
      " 14  officerid        42713 non-null  object        \n",
      " 15  officer_yob      42719 non-null  int64         \n",
      " 16  officer_gender   42719 non-null  object        \n",
      " 17  officer_race     42719 non-null  object        \n",
      " 18  subjectrace      41124 non-null  object        \n",
      " 19  subjectgender    42463 non-null  object        \n",
      " 20  reported_date    42719 non-null  datetime64[ns]\n",
      " 21  reported_time    42719 non-null  datetime64[ns]\n",
      " 22  initialcalltype  29916 non-null  object        \n",
      " 23  finalcalltype    29916 non-null  object        \n",
      " 24  calltype         29916 non-null  object        \n",
      " 25  officersquad     42176 non-null  object        \n",
      " 26  arrestflag       42719 non-null  object        \n",
      " 27  friskflag        42241 non-null  object        \n",
      " 28  precinct         33111 non-null  object        \n",
      " 29  sector           32923 non-null  object        \n",
      " 30  beat             32966 non-null  object        \n",
      " 31  officer_age      42719 non-null  int64         \n",
      "dtypes: datetime64[ns](4), int64(3), object(25)\n",
      "memory usage: 10.4+ MB\n"
     ]
    }
   ],
   "source": [
    "new_json = []\n",
    "\n",
    "\n",
    "for item in all_data[\"data\"]:\n",
    "    single_event_obj = {}\n",
    "    for i in range(len(headers)):\n",
    "        single_event_obj[headers[i]] = item[i]\n",
    "    new_json.append(single_event_obj)\n",
    "\n",
    "print(len(new_json))\n",
    "\n",
    "terry_df = pd.DataFrame(new_json)\n",
    "# nineoneone_df['Arrived Time'] =  pd.to_datetime(nineoneone_df['Arrived Time'], format=\"%b %d %Y %H:%M:%S:%f%p\")\n",
    "terry_df[\":created_at\"] = pd.to_datetime(terry_df[\":created_at\"], unit=\"s\")\n",
    "terry_df[\":updated_at\"] = pd.to_datetime(terry_df[\":updated_at\"], unit=\"s\")\n",
    "terry_df[\"reported_date\"] = pd.to_datetime(terry_df[\"reported_date\"], format=\"%Y-%m-%dT%H:%M:%S\")\n",
    "terry_df[\"reported_time\"] = pd.to_datetime(terry_df[\"reported_time\"], format=\"%H:%M:%S\")\n",
    "terry_df.replace({'-': np.nan}, inplace=True)\n",
    "terry_df[\"officer_yob\"]= pd.to_numeric(terry_df[\"officer_yob\"])\n",
    "frist_flag_map = {'Y': True, 'N': False}\n",
    "terry_df[\"friskflag\"] = terry_df['friskflag'].map(frist_flag_map)\n",
    "print(all_data[\"data\"][0])\n",
    "terry_df[\"officer_age\"] = 2020 - terry_df[\"officer_yob\"] \n",
    "terry_df.info()"
   ]
  },
  {
   "cell_type": "code",
   "execution_count": 96,
   "metadata": {},
   "outputs": [
    {
     "data": {
      "text/plain": [
       "White                                        50.924035\n",
       "Black or African American                    30.940570\n",
       "Unknown                                       5.305904\n",
       "Hispanic                                      4.094932\n",
       "Asian                                         3.253575\n",
       "American Indian or Alaska Native              3.061473\n",
       "Multi-Racial                                  1.967221\n",
       "Other                                         0.369614\n",
       "Native Hawaiian or Other Pacific Islander     0.082677\n",
       "Name: subjectrace, dtype: float64"
      ]
     },
     "execution_count": 96,
     "metadata": {},
     "output_type": "execute_result"
    }
   ],
   "source": [
    "terry_df['subjectrace'].value_counts(normalize=True) * 100"
   ]
  },
  {
   "cell_type": "code",
   "execution_count": 97,
   "metadata": {},
   "outputs": [
    {
     "data": {
      "text/plain": [
       "White                            77.337953\n",
       "Hispanic or Latino                5.529156\n",
       "Two or More Races                 5.313795\n",
       "Black or African American         4.007584\n",
       "Asian                             3.878836\n",
       "Not Specified                     2.179358\n",
       "Nat Hawaiian/Oth Pac Islander     0.999555\n",
       "American Indian/Alaska Native     0.723332\n",
       "Unknown                           0.030431\n",
       "Name: officer_race, dtype: float64"
      ]
     },
     "execution_count": 97,
     "metadata": {},
     "output_type": "execute_result"
    }
   ],
   "source": [
    "terry_df[\"officer_race\"].value_counts(normalize=True) * 100"
   ]
  },
  {
   "cell_type": "code",
   "execution_count": 106,
   "metadata": {},
   "outputs": [
    {
     "data": {
      "text/plain": [
       "37.23924800412054"
      ]
     },
     "execution_count": 106,
     "metadata": {},
     "output_type": "execute_result"
    }
   ],
   "source": [
    "terry_officers = terry_df[\"officerid\"].value_counts(normalize=True) * 100\n",
    "terry_officers.head(111).sum()"
   ]
  },
  {
   "cell_type": "code",
   "execution_count": 108,
   "metadata": {},
   "outputs": [
    {
     "data": {
      "text/plain": [
       "Field Contact               39.523397\n",
       "Offense Report              34.254079\n",
       "Arrest                      24.132119\n",
       "Referred for Prosecution     1.704160\n",
       "Citation / Infraction        0.386245\n",
       "Name: resolution, dtype: float64"
      ]
     },
     "execution_count": 108,
     "metadata": {},
     "output_type": "execute_result"
    }
   ],
   "source": [
    "terry_df[\"resolution\"].value_counts(normalize=True) * 100"
   ]
  },
  {
   "cell_type": "code",
   "execution_count": 109,
   "metadata": {},
   "outputs": [
    {
     "data": {
      "text/plain": [
       "Male                                                         78.571933\n",
       "Female                                                       20.629725\n",
       "Unable to Determine                                           0.767727\n",
       "Unknown                                                       0.025905\n",
       "Gender Diverse (gender non-conforming and/or transgender)     0.004710\n",
       "Name: subjectgender, dtype: float64"
      ]
     },
     "execution_count": 109,
     "metadata": {},
     "output_type": "execute_result"
    }
   ],
   "source": [
    "terry_df[\"subjectgender\"].value_counts(normalize=True) * 100"
   ]
  },
  {
   "cell_type": "code",
   "execution_count": 114,
   "metadata": {},
   "outputs": [
    {
     "data": {
      "text/plain": [
       "<matplotlib.axes._subplots.AxesSubplot at 0x7f7a27a3f520>"
      ]
     },
     "execution_count": 114,
     "metadata": {},
     "output_type": "execute_result"
    },
    {
     "data": {
      "image/png": "[encoded data removed]",
      "text/plain": [
       "<Figure size 1440x720 with 1 Axes>"
      ]
     },
     "metadata": {},
     "output_type": "display_data"
    }
   ],
   "source": [
    "terry_df[\"officer_age\"].plot.box()"
   ]
  },
  {
   "cell_type": "code",
   "execution_count": 115,
   "metadata": {},
   "outputs": [
    {
     "data": {
      "text/plain": [
       "N    95.081814\n",
       "Y     4.918186\n",
       "Name: arrestflag, dtype: float64"
      ]
     },
     "execution_count": 115,
     "metadata": {},
     "output_type": "execute_result"
    }
   ],
   "source": [
    "terry_df[\"arrestflag\"].value_counts(normalize=True) * 100"
   ]
  },
  {
   "cell_type": "code",
   "execution_count": 120,
   "metadata": {},
   "outputs": [
    {
     "data": {
      "text/plain": [
       "N    93.263061\n",
       "Y     6.736939\n",
       "Name: arrestflag, dtype: float64"
      ]
     },
     "execution_count": 120,
     "metadata": {},
     "output_type": "execute_result"
    }
   ],
   "source": [
    "filtered_df = terry_df[terry_df[\"subjectrace\"] == \"Unknown\"]\n",
    "filtered_df[\"arrestflag\"].value_counts(normalize=True) * 100"
   ]
  },
  {
   "cell_type": "code",
   "execution_count": 121,
   "metadata": {},
   "outputs": [
    {
     "data": {
      "text/plain": [
       "N    95.062554\n",
       "Y     4.937446\n",
       "Name: arrestflag, dtype: float64"
      ]
     },
     "execution_count": 121,
     "metadata": {},
     "output_type": "execute_result"
    }
   ],
   "source": [
    "filtered_df2 = terry_df[terry_df[\"subjectrace\"] == \"White\"]\n",
    "filtered_df2[\"arrestflag\"].value_counts(normalize=True) * 100"
   ]
  },
  {
   "cell_type": "code",
   "execution_count": 122,
   "metadata": {},
   "outputs": [
    {
     "data": {
      "text/plain": [
       "N    94.577177\n",
       "Y     5.422823\n",
       "Name: arrestflag, dtype: float64"
      ]
     },
     "execution_count": 122,
     "metadata": {},
     "output_type": "execute_result"
    }
   ],
   "source": [
    "filtered_df3 = terry_df[terry_df[\"subjectrace\"] == \"Black or African American\"]\n",
    "filtered_df3[\"arrestflag\"].value_counts(normalize=True) * 100"
   ]
  },
  {
   "cell_type": "code",
   "execution_count": 143,
   "metadata": {},
   "outputs": [
    {
     "data": {
      "text/plain": [
       "False    77.824862\n",
       "True     22.175138\n",
       "Name: friskflag, dtype: float64"
      ]
     },
     "execution_count": 143,
     "metadata": {},
     "output_type": "execute_result"
    }
   ],
   "source": [
    "terry_df[\"friskflag\"].value_counts(normalize=True) * 100"
   ]
  },
  {
   "cell_type": "code",
   "execution_count": 145,
   "metadata": {},
   "outputs": [
    {
     "name": "stdout",
     "output_type": "stream",
     "text": [
      "\n",
      "suspect race:nan\n",
      "frisk stats\n",
      "Series([], Name: friskflag, dtype: float64)\n",
      "        \n",
      "\n",
      "suspect race:White\n",
      "frisk stats\n",
      "False    81.076648\n",
      "True     18.923352\n",
      "Name: friskflag, dtype: float64\n",
      "        \n",
      "\n",
      "suspect race:Multi-Racial\n",
      "frisk stats\n",
      "False    77.261307\n",
      "True     22.738693\n",
      "Name: friskflag, dtype: float64\n",
      "        \n",
      "\n",
      "suspect race:Asian\n",
      "frisk stats\n",
      "False    74.001507\n",
      "True     25.998493\n",
      "Name: friskflag, dtype: float64\n",
      "        \n",
      "\n",
      "suspect race:Native Hawaiian or Other Pacific Islander\n",
      "frisk stats\n",
      "False    76.470588\n",
      "True     23.529412\n",
      "Name: friskflag, dtype: float64\n",
      "        \n",
      "\n",
      "suspect race:Other\n",
      "frisk stats\n",
      "False    76.510067\n",
      "True     23.489933\n",
      "Name: friskflag, dtype: float64\n",
      "        \n",
      "\n",
      "suspect race:American Indian or Alaska Native\n",
      "frisk stats\n",
      "False    77.473854\n",
      "True     22.526146\n",
      "Name: friskflag, dtype: float64\n",
      "        \n",
      "\n",
      "suspect race:Hispanic\n",
      "frisk stats\n",
      "False    73.845231\n",
      "True     26.154769\n",
      "Name: friskflag, dtype: float64\n",
      "        \n",
      "\n",
      "suspect race:Black or African American\n",
      "frisk stats\n",
      "False    73.561394\n",
      "True     26.438606\n",
      "Name: friskflag, dtype: float64\n",
      "        \n",
      "\n",
      "suspect race:Unknown\n",
      "frisk stats\n",
      "False    79.047179\n",
      "True     20.952821\n",
      "Name: friskflag, dtype: float64\n",
      "        \n"
     ]
    }
   ],
   "source": [
    "def frisk_printer():\n",
    "    set_races = set()\n",
    "    for race in terry_df[\"subjectrace\"]:\n",
    "        set_races.add(race)\n",
    "    \n",
    "    for race in set_races:\n",
    "        filtered_df = terry_df[terry_df[\"subjectrace\"] == race]\n",
    "        output = filtered_df[\"friskflag\"].value_counts(normalize=True) * 100\n",
    "        print(f\"\"\"\n",
    "suspect race:{race}\n",
    "frisk stats\n",
    "{output}\n",
    "        \"\"\")\n",
    "\n",
    "frisk_printer()"
   ]
  },
  {
   "cell_type": "code",
   "execution_count": null,
   "metadata": {
    "jupyter": {
     "source_hidden": true
    }
   },
   "outputs": [],
   "source": []
  },
  {
   "cell_type": "code",
   "execution_count": null,
   "metadata": {
    "jupyter": {
     "source_hidden": true
    }
   },
   "outputs": [],
   "source": []
  }
 ],
 "metadata": {
  "kernelspec": {
   "display_name": "Python 3",
   "language": "python",
   "name": "python3"
  },
  "language_info": {
   "codemirror_mode": {
    "name": "ipython",
    "version": 3
   },
   "file_extension": ".py",
   "mimetype": "text/x-python",
   "name": "python",
   "nbconvert_exporter": "python",
   "pygments_lexer": "ipython3",
   "version": "3.8.2"
  }
 },
 "nbformat": 4,
 "nbformat_minor": 4
}
